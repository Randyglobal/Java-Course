{
  "cells": [
    {
      "cell_type": "markdown",
      "metadata": {
        "id": "view-in-github",
        "colab_type": "text"
      },
      "source": [
        "<a href=\"https://colab.research.google.com/github/Randyglobal/Java-Course/blob/main/Copy_of_02_homework.ipynb\" target=\"_parent\"><img src=\"https://colab.research.google.com/assets/colab-badge.svg\" alt=\"Open In Colab\"/></a>"
      ]
    },
    {
      "cell_type": "markdown",
      "id": "76639b6d-da73-4e1e-8aaa-0070a2403485",
      "metadata": {
        "id": "76639b6d-da73-4e1e-8aaa-0070a2403485"
      },
      "source": [
        "# Homework: Variables/Boolean Expressions/__`if`__ Statements/Pseudocode\n",
        "\n",
        "## **Submission Guidelines**\n",
        "* Focus on completing Exercises 1, 2, 3, and 4. Exercise 5 are _stretch challenges_.\n",
        "* Submit your by copy and pasting each exercise into the text submission box for this assessment in brightspace* Clearly label each exercise and include comments to explain your logic.\n",
        "\n",
        "## Instructions\n",
        "\n",
        "Complete the following exercises in a single Python file or Jupyter Notebook. Clearly label each exercise and when needed, include comments explaining your logic. Focus on completing Exercise 1 through 4. Exercise 5 is a _stretch challenge_."
      ]
    },
    {
      "cell_type": "markdown",
      "id": "1b3cec93-6b5b-4d78-81ab-17ab17b75a25",
      "metadata": {
        "id": "1b3cec93-6b5b-4d78-81ab-17ab17b75a25"
      },
      "source": [
        "### Exercise 1: Variables\n",
        "* Each scenario below describes some data to be manipulated by your code. Choose appropriate variable names (and values) and create variables/expressions for these scenarios.\n",
        "  "
      ]
    },
    {
      "cell_type": "code",
      "execution_count": null,
      "id": "d2294621-440c-4667-87df-6306f0a70fec",
      "metadata": {
        "id": "d2294621-440c-4667-87df-6306f0a70fec"
      },
      "outputs": [],
      "source": []
    },
    {
      "cell_type": "markdown",
      "id": "8a3f8bb8-024e-4645-b633-356db225d206",
      "metadata": {
        "id": "8a3f8bb8-024e-4645-b633-356db225d206"
      },
      "source": [
        "1. Determine the cost of some number of pounds of cement. Assume there is a sales tax that applies.\n",
        "  "
      ]
    },
    {
      "cell_type": "code",
      "execution_count": null,
      "id": "d0fe743d-1acd-41a8-a0b9-92aedc8fc0a4",
      "metadata": {
        "id": "d0fe743d-1acd-41a8-a0b9-92aedc8fc0a4",
        "outputId": "d9ada38e-72cd-4827-b61a-d2dac337f0e6",
        "colab": {
          "base_uri": "https://localhost:8080/"
        }
      },
      "outputs": [
        {
          "output_type": "stream",
          "name": "stdout",
          "text": [
            "Cost_per_cement_with tax is $ 5.5\n",
            "Total cost per pound is $ 6.25\n"
          ]
        }
      ],
      "source": [
        "# Cost of a pound of cement\n",
        "cement_cost = 110\n",
        "tax_per_pound = 0.05\n",
        "sale_tax = 0.75\n",
        "\n",
        "# First, we need to calculate the cost\n",
        "cost_per_cement_with_tax = cement_cost * tax_per_pound\n",
        "print(\"Cost_per_cement_with tax is\", \"$\",cost_per_cement_with_tax)\n",
        "\n",
        "# Total cost of a pound of cement\n",
        "total_cost_per_pound = cost_per_cement_with_tax + sale_tax\n",
        "print(\"Total cost per pound is\", \"$\",total_cost_per_pound)"
      ]
    },
    {
      "cell_type": "markdown",
      "id": "b1aa5351-43b1-401f-b15a-ecff2d4c393b",
      "metadata": {
        "id": "b1aa5351-43b1-401f-b15a-ecff2d4c393b"
      },
      "source": [
        "2. Given the cost of various containers of eggs (perhaps half a dozen, one dozen, and 1 1/2 dozen), determine the cost _per egg_ for each of those containers.\n",
        "  "
      ]
    },
    {
      "cell_type": "code",
      "execution_count": null,
      "id": "e757836e-1848-434f-9301-d41470770f49",
      "metadata": {
        "id": "e757836e-1848-434f-9301-d41470770f49",
        "outputId": "b51451cc-2eef-4e03-e860-40a90023de00",
        "colab": {
          "base_uri": "https://localhost:8080/"
        }
      },
      "outputs": [
        {
          "output_type": "stream",
          "name": "stdout",
          "text": [
            "Cost per egg for container 1 is $ 0.5\n",
            "Cost per egg for container 2 is $ 0.5\n",
            "Cost per egg for container 3 is $ 0.5\n"
          ]
        }
      ],
      "source": [
        "# Half a dozel = 6\n",
        "# A dozen = 12\n",
        "# 1 1/2dozen => 12+6= 18\n",
        "half_a_dozel = 6\n",
        "dozen = 12\n",
        "one_half_dozen = 18\n",
        "\n",
        "# Assuming\n",
        "container1_with_half_dozen = 3\n",
        "container2_with_one_dozen = 6\n",
        "container3_with_one_half_dozen = 9\n",
        "\n",
        "# cost per egg of each container\n",
        "cost_per_egg_container1 = container1_with_half_dozen / half_a_dozel\n",
        "cost_per_egg_container2 = container2_with_one_dozen / dozen\n",
        "cost_per_egg_container3 = container3_with_one_half_dozen / one_half_dozen\n",
        "\n",
        "# answers\n",
        "print(\"Cost per egg for container 1 is $\", cost_per_egg_container1)\n",
        "print(\"Cost per egg for container 2 is $\", cost_per_egg_container2)\n",
        "print(\"Cost per egg for container 3 is $\", cost_per_egg_container3)"
      ]
    },
    {
      "cell_type": "markdown",
      "id": "192dfb2f-790e-4725-b201-3b803f4fc348",
      "metadata": {
        "id": "192dfb2f-790e-4725-b201-3b803f4fc348"
      },
      "source": [
        "3. Given an hourly wage and a number of hours worked, determine how much a worker should be paid for shoveling snow."
      ]
    },
    {
      "cell_type": "code",
      "execution_count": null,
      "id": "9f098469-0470-4a68-ba73-721bd6526c2c",
      "metadata": {
        "id": "9f098469-0470-4a68-ba73-721bd6526c2c",
        "outputId": "dc81c479-4d13-434c-edf7-edc7dfb0b645",
        "colab": {
          "base_uri": "https://localhost:8080/"
        }
      },
      "outputs": [
        {
          "output_type": "stream",
          "name": "stdout",
          "text": [
            "Workers pay is $ 1128.5\n"
          ]
        }
      ],
      "source": [
        "# Assuming\n",
        "hourly_wage = 18.50\n",
        "\n",
        "hours_worked = 60\n",
        "\n",
        "workers_pay = hourly_wage * hours_worked\n",
        "\n",
        "print(\"Workers pay is $\", workers_pay)"
      ]
    },
    {
      "cell_type": "markdown",
      "id": "3a702132-7720-45b3-97d6-6dc7d4fc1113",
      "metadata": {
        "id": "3a702132-7720-45b3-97d6-6dc7d4fc1113"
      },
      "source": [
        "### Exercise 2: Boolean Expressions\n",
        "* Each scenario below describes some data to be manipulated by your code. Choose appropriate variable names (and values) and create Boolean expressions for these scenarios.\n",
        "  "
      ]
    },
    {
      "cell_type": "markdown",
      "id": "192e9f66-c2a7-4933-beaa-4666f57ac042",
      "metadata": {
        "id": "192e9f66-c2a7-4933-beaa-4666f57ac042"
      },
      "source": [
        "1. Given the number of hours worked in a week, determine whether the employee will receive any overtime pay.\n",
        "  "
      ]
    },
    {
      "cell_type": "code",
      "execution_count": null,
      "id": "d99bbc14-4ab9-4cc2-abf4-0f847d4aa95c",
      "metadata": {
        "id": "d99bbc14-4ab9-4cc2-abf4-0f847d4aa95c",
        "outputId": "b4d3dd1d-dc5a-4b12-d422-a5d8d32bca29",
        "colab": {
          "base_uri": "https://localhost:8080/"
        }
      },
      "outputs": [
        {
          "output_type": "stream",
          "name": "stdout",
          "text": [
            "Overtime hours of work is 60\n",
            "Employee eligibility is True\n"
          ]
        }
      ],
      "source": [
        "# Assuming\n",
        "hours_worked_by_employee = 59\n",
        "every_employee_working_hours = 40\n",
        "overtime_hours = 20\n",
        "overall_hours_of_work = every_employee_working_hours + overtime_hours\n",
        "\n",
        "# Answer\n",
        "print(\"Overtime hours of work is\", overall_hours_of_work)\n",
        "\n",
        "employee_eligibility = overall_hours_of_work > hours_worked_by_employee\n",
        "print(\"Employee eligibility is\", employee_eligibility)"
      ]
    },
    {
      "cell_type": "markdown",
      "id": "39e3ed1b-b146-4653-a011-05cc34913574",
      "metadata": {
        "id": "39e3ed1b-b146-4653-a011-05cc34913574"
      },
      "source": [
        "2. Determine whether someone else's name is the same as your name.\n",
        "  "
      ]
    },
    {
      "cell_type": "code",
      "execution_count": null,
      "id": "99c07417-eb54-44db-8fdf-d890b0f48892",
      "metadata": {
        "id": "99c07417-eb54-44db-8fdf-d890b0f48892",
        "outputId": "dbe22dd4-dfaa-47a3-ac5b-9c92ef386fda",
        "colab": {
          "base_uri": "https://localhost:8080/"
        }
      },
      "outputs": [
        {
          "output_type": "stream",
          "name": "stdout",
          "text": [
            "Enter first name:King\n",
            "Enter second name:Elsa\n",
            "Names match => False\n"
          ]
        }
      ],
      "source": [
        "# Getting the names\n",
        "first_name = input(\"Enter first name:\", )\n",
        "second_name = input(\"Enter second name:\" ,)\n",
        "\n",
        "# Comparing if names match\n",
        "print(\"Names match =>\", first_name == second_name)"
      ]
    },
    {
      "cell_type": "markdown",
      "id": "906a7a13-ae3e-4369-8853-a970d326c03e",
      "metadata": {
        "id": "906a7a13-ae3e-4369-8853-a970d326c03e"
      },
      "source": [
        "3. Determine whether the number of consecutive days of rain is at least 3"
      ]
    },
    {
      "cell_type": "markdown",
      "source": [],
      "metadata": {
        "id": "m0sB2FcikPp7"
      },
      "id": "m0sB2FcikPp7"
    },
    {
      "cell_type": "code",
      "execution_count": null,
      "id": "490fd285-10c5-4d98-8bb5-fde0566e6064",
      "metadata": {
        "id": "490fd285-10c5-4d98-8bb5-fde0566e6064",
        "outputId": "6eaf9ff2-8926-4ede-f4bf-cc9bbd5a21c8",
        "colab": {
          "base_uri": "https://localhost:8080/"
        }
      },
      "outputs": [
        {
          "output_type": "stream",
          "name": "stdout",
          "text": [
            "Enter your weight in pounds:12\n",
            "Enter your height in inches squared:11\n",
            "Unhealthy BMI\n"
          ]
        }
      ],
      "source": [
        "# rain_data = [0,1,1]\n",
        "# # Checking the length\n",
        "# if len(rain_data) >= 3:\n",
        "#     # Answer\n",
        "#     print(True)\n",
        "# else:\n",
        "#     # Answer\n",
        "#     print(False)\n",
        "\n",
        "\n",
        "# Exercise 3.1\n",
        "# name = input(\"Enter your name:\")\n",
        "# if name != \"\":\n",
        "#     print(\"Hello\" + name)\n",
        "# else:\n",
        "#     print(\"!!! This field id not supposed to be empty\")\n",
        "\n",
        "\n",
        "# Exercise 3.2\n",
        "# gallon_lights_default = 5\n",
        "# if gallon_lights_default <= 1.5:\n",
        "#      print(\"Turn on the fuel warning light\")\n",
        "# else:\n",
        "#     print(\"Turn off the fuel warning light\")\n",
        "\n",
        "# Exrcise 3.3\n",
        "weight = input(\"Enter your weight in pounds:\")\n",
        "height = input(\"Enter your height in inches squared:\")\n",
        "bmi = 703 * int(weight) / int(height)\n",
        "\n",
        "if bmi < 25:\n",
        "    print(\"Healthy BMI\")\n",
        "else:\n",
        "    print(\"Unhealthy BMI\")"
      ]
    },
    {
      "cell_type": "markdown",
      "id": "6901b93f-56e3-4400-9acb-cee75d015682",
      "metadata": {
        "id": "6901b93f-56e3-4400-9acb-cee75d015682"
      },
      "source": [
        "### Exercise 3: Pseudocode\n",
        "* Turn the following bits of pseudocode into __`if`__ statements\n",
        "  "
      ]
    },
    {
      "cell_type": "markdown",
      "id": "9dfa5f07-9053-4497-ab09-a2dd4d4445f1",
      "metadata": {
        "id": "9dfa5f07-9053-4497-ab09-a2dd4d4445f1"
      },
      "source": [
        "1. Output a warning if the person's name is empty"
      ]
    },
    {
      "cell_type": "markdown",
      "id": "a3f4e55f-8d45-4fef-bfe2-a754e694872e",
      "metadata": {
        "id": "a3f4e55f-8d45-4fef-bfe2-a754e694872e"
      },
      "source": [
        "3. BMI can be calculated as 703 times weight in pounds, divided by height in inches squared. Output \"Healthy BMI\" if the calculated BMI is below 25."
      ]
    },
    {
      "cell_type": "markdown",
      "id": "8f66564d-86cf-4141-be27-fe41a0145695",
      "metadata": {
        "id": "8f66564d-86cf-4141-be27-fe41a0145695"
      },
      "source": [
        "2. Turn on the fuel warning light when the number of gallons remaining is less than 1.5"
      ]
    },
    {
      "cell_type": "markdown",
      "id": "2c55859e-fa56-4690-a8a6-70b73e1249fc",
      "metadata": {
        "id": "2c55859e-fa56-4690-a8a6-70b73e1249fc"
      },
      "source": [
        "### Exercise 4: if statements\n",
        "* Explain what each of the following __`if`__ statements is doing/asking"
      ]
    },
    {
      "cell_type": "code",
      "execution_count": null,
      "id": "e282eb92-7ac0-47c8-9ee6-6311d7832a39",
      "metadata": {
        "id": "e282eb92-7ac0-47c8-9ee6-6311d7832a39",
        "outputId": "8577bc9b-223f-4292-b2b6-e7d9061e5c9b",
        "colab": {
          "base_uri": "https://localhost:8080/"
        }
      },
      "outputs": [
        {
          "output_type": "stream",
          "name": "stdout",
          "text": [
            "...\n"
          ]
        }
      ],
      "source": [
        "feet = 4\n",
        "inches = 8\n",
        "\n",
        "if feet * 12 + inches >= 56:\n",
        "    print('...')"
      ]
    },
    {
      "cell_type": "code",
      "execution_count": null,
      "id": "a403c893-6b7e-4497-9e44-14e1ca773181",
      "metadata": {
        "id": "a403c893-6b7e-4497-9e44-14e1ca773181"
      },
      "outputs": [],
      "source": []
    },
    {
      "cell_type": "code",
      "execution_count": null,
      "id": "d20594b7-6e22-49c9-af84-59f842357bc4",
      "metadata": {
        "id": "d20594b7-6e22-49c9-af84-59f842357bc4",
        "outputId": "cbba0e09-0b73-4921-8d9f-f54b66f09cc0",
        "colab": {
          "base_uri": "https://localhost:8080/"
        }
      },
      "outputs": [
        {
          "output_type": "stream",
          "name": "stdout",
          "text": [
            "9\n",
            "4\n"
          ]
        }
      ],
      "source": [
        "hours = 220\n",
        "days = 0\n",
        "\n",
        "if hours > 23:\n",
        "    days = hours // 24\n",
        "    print(days)\n",
        "\n",
        "print(hours - days * 24)"
      ]
    },
    {
      "cell_type": "code",
      "execution_count": null,
      "id": "64dac05b-d423-448f-8369-6f0f6b0cb9c3",
      "metadata": {
        "id": "64dac05b-d423-448f-8369-6f0f6b0cb9c3"
      },
      "outputs": [],
      "source": []
    },
    {
      "cell_type": "code",
      "execution_count": null,
      "id": "6b8c21b4-3a09-435d-a36c-0bde2fea31ad",
      "metadata": {
        "id": "6b8c21b4-3a09-435d-a36c-0bde2fea31ad",
        "outputId": "18d62a6c-d644-49df-d940-51a33fdac474",
        "colab": {
          "base_uri": "https://localhost:8080/"
        }
      },
      "outputs": [
        {
          "output_type": "stream",
          "name": "stdout",
          "text": [
            "3 dozen\n",
            "plus 9\n"
          ]
        }
      ],
      "source": [
        "eggs = 45\n",
        "\n",
        "if eggs >= 12:\n",
        "    print(eggs // 12, 'dozen')\n",
        "\n",
        "print('plus', eggs - (eggs // 12) * 12)"
      ]
    },
    {
      "cell_type": "code",
      "execution_count": null,
      "id": "23dee90b-6807-4ca7-8a3b-77a58c21217f",
      "metadata": {
        "id": "23dee90b-6807-4ca7-8a3b-77a58c21217f"
      },
      "outputs": [],
      "source": []
    },
    {
      "cell_type": "markdown",
      "id": "b0196bce-78f4-489f-8209-0e4d0eb601b9",
      "metadata": {
        "id": "b0196bce-78f4-489f-8209-0e4d0eb601b9"
      },
      "source": [
        "### Exercise 5: if statements\n",
        "1. Turn the following English description of a problem (steps) into pseudocode. Not that where you see \"find out\" below, you can either assume the value will be in a variable, or you can get input from the user. Remember this is pseudocode you are writing, so even though we haven't learned how to get input from the user, you could specify that action in your pseudocode.\n",
        "\n",
        "    1. find out how many people are in their party\n",
        "    1. find out the start time of the movie they want to see\n",
        "    1. find out how many seniors (62+) are in their party\n",
        "    1. find out how many students are in their party\n",
        "    1. the price of their tickets will be \\\\$10 each for movies that start after 4:30 pm and \\\\$7.50 for movies that start before 4:30 pm\n",
        "    1. seniors (62+) receive a 50% discount on the ticket price\n",
        "    1. students received a 25% discount on the ticket price\n",
        "    1. a group of 10+ paid at the same time saves \\\\$1 per ticket, on top of any other discounts\n",
        "\n",
        "1. Now turn your pseudocode into working Python code. Again, we haven't learned how to get input from the user but could also look it up or you could set variables with various values and ensure the result is correct."
      ]
    },
    {
      "cell_type": "code",
      "execution_count": null,
      "id": "c6738a10-12ad-410a-8b16-b1b8a517cece",
      "metadata": {
        "id": "c6738a10-12ad-410a-8b16-b1b8a517cece"
      },
      "outputs": [],
      "source": []
    }
  ],
  "metadata": {
    "kernelspec": {
      "display_name": "Python 3 (ipykernel)",
      "language": "python",
      "name": "python3"
    },
    "language_info": {
      "codemirror_mode": {
        "name": "ipython",
        "version": 3
      },
      "file_extension": ".py",
      "mimetype": "text/x-python",
      "name": "python",
      "nbconvert_exporter": "python",
      "pygments_lexer": "ipython3",
      "version": "3.13.1"
    },
    "colab": {
      "provenance": [],
      "include_colab_link": true
    }
  },
  "nbformat": 4,
  "nbformat_minor": 5
}